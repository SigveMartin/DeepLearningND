{
 "cells": [
  {
   "cell_type": "markdown",
   "metadata": {
    "deletable": true,
    "editable": true
   },
   "source": [
    "# TV Script Generation\n",
    "In this project, you'll generate your own [Simpsons](https://en.wikipedia.org/wiki/The_Simpsons) TV scripts using RNNs.  You'll be using part of the [Simpsons dataset](https://www.kaggle.com/wcukierski/the-simpsons-by-the-data) of scripts from 27 seasons.  The Neural Network you'll build will generate a new TV script for a scene at [Moe's Tavern](https://simpsonswiki.com/wiki/Moe's_Tavern).\n",
    "## Get the Data\n",
    "The data is already provided for you.  You'll be using a subset of the original dataset.  It consists of only the scenes in Moe's Tavern.  This doesn't include other versions of the tavern, like \"Moe's Cavern\", \"Flaming Moe's\", \"Uncle Moe's Family Feed-Bag\", etc.."
   ]
  },
  {
   "cell_type": "code",
   "execution_count": 94,
   "metadata": {
    "collapsed": true,
    "deletable": true,
    "editable": true
   },
   "outputs": [],
   "source": [
    "\"\"\"\n",
    "DON'T MODIFY ANYTHING IN THIS CELL\n",
    "\"\"\"\n",
    "import helper\n",
    "\n",
    "data_dir = './data/simpsons/moes_tavern_lines.txt'\n",
    "text = helper.load_data(data_dir)\n",
    "# Ignore notice, since we don't use it for analysing the data\n",
    "text = text[81:]"
   ]
  },
  {
   "cell_type": "markdown",
   "metadata": {
    "deletable": true,
    "editable": true
   },
   "source": [
    "## Explore the Data\n",
    "Play around with `view_sentence_range` to view different parts of the data."
   ]
  },
  {
   "cell_type": "code",
   "execution_count": 95,
   "metadata": {
    "collapsed": false,
    "deletable": true,
    "editable": true
   },
   "outputs": [
    {
     "name": "stdout",
     "output_type": "stream",
     "text": [
      "Dataset Stats\n",
      "Roughly the number of unique words: 11492\n",
      "Number of scenes: 262\n",
      "Average number of sentences in each scene: 15.248091603053435\n",
      "Number of lines: 4257\n",
      "Average number of words in each line: 11.50434578341555\n",
      "\n",
      "The sentences 1 to 26:\n",
      "Bart_Simpson: Eh, yeah, hello, is Mike there? Last name, Rotch.\n",
      "Moe_Szyslak: (INTO PHONE) Hold on, I'll check. (TO BARFLIES) Mike Rotch. Mike Rotch. Hey, has anybody seen Mike Rotch, lately?\n",
      "Moe_Szyslak: (INTO PHONE) Listen you little puke. One of these days I'm gonna catch you, and I'm gonna carve my name on your back with an ice pick.\n",
      "Moe_Szyslak: What's the matter Homer? You're not your normal effervescent self.\n",
      "Homer_Simpson: I got my problems, Moe. Give me another one.\n",
      "Moe_Szyslak: Homer, hey, you should not drink to forget your problems.\n",
      "Barney_Gumble: Yeah, you should only drink to enhance your social skills.\n",
      "\n",
      "\n",
      "Moe_Szyslak: Ah, isn't that nice. Now, there is a politician who cares.\n",
      "Barney_Gumble: If I ever vote, it'll be for him. (BELCH)\n",
      "\n",
      "\n",
      "Barney_Gumble: Hey Homer, how's your neighbor's store doing?\n",
      "Homer_Simpson: Lousy. He just sits there all day. He'd have a great job if he didn't own the place. (CHUCKLES)\n",
      "Moe_Szyslak: (STRUGGLING WITH CORKSCREW) Crummy right-handed corkscrews! What does he sell?\n",
      "Homer_Simpson: Uh, well actually, Moe...\n",
      "HOMER_(CONT'D: I dunno.\n",
      "\n",
      "\n",
      "Moe_Szyslak: Looks like this is the end.\n",
      "Barney_Gumble: That's all right. I couldn't have led a richer life.\n",
      "Barney_Gumble: So the next time somebody tells you county folk are good, honest people, you can spit in their faces for me!\n",
      "Lisa_Simpson: I will, Mr. Gumbel. But if you'll excuse me, I'm profiling my dad for the school paper. I thought it would be neat to follow him around for a day to see what makes him tick.\n",
      "Barney_Gumble: Oh, that's sweet. I used to follow my dad to a lot of bars too. (BELCH)\n"
     ]
    }
   ],
   "source": [
    "view_sentence_range = (1, 26)\n",
    "\n",
    "\"\"\"\n",
    "DON'T MODIFY ANYTHING IN THIS CELL\n",
    "\"\"\"\n",
    "import numpy as np\n",
    "\n",
    "print('Dataset Stats')\n",
    "print('Roughly the number of unique words: {}'.format(len({word: None for word in text.split()})))\n",
    "scenes = text.split('\\n\\n')\n",
    "print('Number of scenes: {}'.format(len(scenes)))\n",
    "sentence_count_scene = [scene.count('\\n') for scene in scenes]\n",
    "print('Average number of sentences in each scene: {}'.format(np.average(sentence_count_scene)))\n",
    "\n",
    "sentences = [sentence for scene in scenes for sentence in scene.split('\\n')]\n",
    "print('Number of lines: {}'.format(len(sentences)))\n",
    "word_count_sentence = [len(sentence.split()) for sentence in sentences]\n",
    "print('Average number of words in each line: {}'.format(np.average(word_count_sentence)))\n",
    "\n",
    "print()\n",
    "print('The sentences {} to {}:'.format(*view_sentence_range))\n",
    "print('\\n'.join(text.split('\\n')[view_sentence_range[0]:view_sentence_range[1]]))"
   ]
  },
  {
   "cell_type": "markdown",
   "metadata": {
    "deletable": true,
    "editable": true
   },
   "source": [
    "## Implement Preprocessing Functions\n",
    "The first thing to do to any dataset is preprocessing.  Implement the following preprocessing functions below:\n",
    "- Lookup Table\n",
    "- Tokenize Punctuation\n",
    "\n",
    "### Lookup Table\n",
    "To create a word embedding, you first need to transform the words to ids.  In this function, create two dictionaries:\n",
    "- Dictionary to go from the words to an id, we'll call `vocab_to_int`\n",
    "- Dictionary to go from the id to word, we'll call `int_to_vocab`\n",
    "\n",
    "Return these dictionaries in the following tuple `(vocab_to_int, int_to_vocab)`"
   ]
  },
  {
   "cell_type": "code",
   "execution_count": 96,
   "metadata": {
    "collapsed": false,
    "deletable": true,
    "editable": true
   },
   "outputs": [
    {
     "name": "stdout",
     "output_type": "stream",
     "text": [
      "Tests Passed\n"
     ]
    }
   ],
   "source": [
    "import numpy as np\n",
    "import problem_unittests as tests\n",
    "from collections import Counter\n",
    "\n",
    "def create_lookup_tables(text):\n",
    "    \"\"\"\n",
    "    Create lookup tables for vocabulary\n",
    "    :param text: The text of tv scripts split into words\n",
    "    :return: A tuple of dicts (vocab_to_int, int_to_vocab)\n",
    "    \"\"\"\n",
    "    # TODO: Implement Function\n",
    "    counts = Counter(text)\n",
    "    vacab = sorted(counts, key=counts.get, reverse=True)\n",
    "    vocab_to_int = {word: ii for ii, word in enumerate(vacab)}\n",
    "    int_to_vocab = {int_: word for int_, word in enumerate(vacab)}\n",
    "    \n",
    "    return vocab_to_int, int_to_vocab\n",
    "\n",
    "\n",
    "\"\"\"\n",
    "DON'T MODIFY ANYTHING IN THIS CELL THAT IS BELOW THIS LINE\n",
    "\"\"\"\n",
    "tests.test_create_lookup_tables(create_lookup_tables)"
   ]
  },
  {
   "cell_type": "markdown",
   "metadata": {
    "deletable": true,
    "editable": true
   },
   "source": [
    "### Tokenize Punctuation\n",
    "We'll be splitting the script into a word array using spaces as delimiters.  However, punctuations like periods and exclamation marks make it hard for the neural network to distinguish between the word \"bye\" and \"bye!\".\n",
    "\n",
    "Implement the function `token_lookup` to return a dict that will be used to tokenize symbols like \"!\" into \"||Exclamation_Mark||\".  Create a dictionary for the following symbols where the symbol is the key and value is the token:\n",
    "- Period ( . )\n",
    "- Comma ( , )\n",
    "- Quotation Mark ( \" )\n",
    "- Semicolon ( ; )\n",
    "- Exclamation mark ( ! )\n",
    "- Question mark ( ? )\n",
    "- Left Parentheses ( ( )\n",
    "- Right Parentheses ( ) )\n",
    "- Dash ( -- )\n",
    "- Return ( \\n )\n",
    "\n",
    "This dictionary will be used to token the symbols and add the delimiter (space) around it.  This separates the symbols as it's own word, making it easier for the neural network to predict on the next word. Make sure you don't use a token that could be confused as a word. Instead of using the token \"dash\", try using something like \"||dash||\"."
   ]
  },
  {
   "cell_type": "code",
   "execution_count": 97,
   "metadata": {
    "collapsed": false,
    "deletable": true,
    "editable": true
   },
   "outputs": [
    {
     "name": "stdout",
     "output_type": "stream",
     "text": [
      "Tests Passed\n"
     ]
    }
   ],
   "source": [
    "def token_lookup():\n",
    "    \"\"\"\n",
    "    Generate a dict to turn punctuation into a token.\n",
    "    :return: Tokenize dictionary where the key is the punctuation and the value is the token\n",
    "    \"\"\"\n",
    "    # TODO: Implement Function\n",
    "    token_dict = {\".\":\"||Period||\",\",\":\"||Comma||\",\"\\\"\":\"||Quotation_Mark||\",\\\n",
    "                  \";\":\"||Semicolon||\",\"!\":\"||Exclamation_mark||\",\"?\":\"||Question_mark||\",\\\n",
    "                  \"(\":\"||Left_Parentheses||\",\")\":\"||Right_Parentheses||\",\"--\":\"||Dash||\",\"\\n\":\"||Return||\"}\n",
    "    return token_dict\n",
    "\n",
    "\"\"\"\n",
    "DON'T MODIFY ANYTHING IN THIS CELL THAT IS BELOW THIS LINE\n",
    "\"\"\"\n",
    "tests.test_tokenize(token_lookup)"
   ]
  },
  {
   "cell_type": "markdown",
   "metadata": {
    "deletable": true,
    "editable": true
   },
   "source": [
    "## Preprocess all the data and save it\n",
    "Running the code cell below will preprocess all the data and save it to file."
   ]
  },
  {
   "cell_type": "code",
   "execution_count": 98,
   "metadata": {
    "collapsed": true,
    "deletable": true,
    "editable": true
   },
   "outputs": [],
   "source": [
    "\"\"\"\n",
    "DON'T MODIFY ANYTHING IN THIS CELL\n",
    "\"\"\"\n",
    "# Preprocess Training, Validation, and Testing Data\n",
    "helper.preprocess_and_save_data(data_dir, token_lookup, create_lookup_tables)"
   ]
  },
  {
   "cell_type": "markdown",
   "metadata": {
    "deletable": true,
    "editable": true
   },
   "source": [
    "# Check Point\n",
    "This is your first checkpoint. If you ever decide to come back to this notebook or have to restart the notebook, you can start from here. The preprocessed data has been saved to disk."
   ]
  },
  {
   "cell_type": "code",
   "execution_count": 99,
   "metadata": {
    "collapsed": true,
    "deletable": true,
    "editable": true
   },
   "outputs": [],
   "source": [
    "\"\"\"\n",
    "DON'T MODIFY ANYTHING IN THIS CELL\n",
    "\"\"\"\n",
    "import helper\n",
    "import numpy as np\n",
    "import problem_unittests as tests\n",
    "\n",
    "int_text, vocab_to_int, int_to_vocab, token_dict = helper.load_preprocess()"
   ]
  },
  {
   "cell_type": "markdown",
   "metadata": {
    "deletable": true,
    "editable": true
   },
   "source": [
    "## Build the Neural Network\n",
    "You'll build the components necessary to build a RNN by implementing the following functions below:\n",
    "- get_inputs\n",
    "- get_init_cell\n",
    "- get_embed\n",
    "- build_rnn\n",
    "- build_nn\n",
    "- get_batches\n",
    "\n",
    "### Check the Version of TensorFlow and Access to GPU"
   ]
  },
  {
   "cell_type": "code",
   "execution_count": 100,
   "metadata": {
    "collapsed": false,
    "deletable": true,
    "editable": true
   },
   "outputs": [
    {
     "name": "stdout",
     "output_type": "stream",
     "text": [
      "TensorFlow Version: 1.0.0\n",
      "Default GPU Device: /gpu:0\n"
     ]
    }
   ],
   "source": [
    "\"\"\"\n",
    "DON'T MODIFY ANYTHING IN THIS CELL\n",
    "\"\"\"\n",
    "from distutils.version import LooseVersion\n",
    "import warnings\n",
    "import tensorflow as tf\n",
    "\n",
    "# Check TensorFlow Version\n",
    "assert LooseVersion(tf.__version__) >= LooseVersion('1.0'), 'Please use TensorFlow version 1.0 or newer'\n",
    "print('TensorFlow Version: {}'.format(tf.__version__))\n",
    "\n",
    "# Check for a GPU\n",
    "if not tf.test.gpu_device_name():\n",
    "    warnings.warn('No GPU found. Please use a GPU to train your neural network.')\n",
    "else:\n",
    "    print('Default GPU Device: {}'.format(tf.test.gpu_device_name()))"
   ]
  },
  {
   "cell_type": "markdown",
   "metadata": {
    "deletable": true,
    "editable": true
   },
   "source": [
    "### Input\n",
    "Implement the `get_inputs()` function to create TF Placeholders for the Neural Network.  It should create the following placeholders:\n",
    "- Input text placeholder named \"input\" using the [TF Placeholder](https://www.tensorflow.org/api_docs/python/tf/placeholder) `name` parameter.\n",
    "- Targets placeholder\n",
    "- Learning Rate placeholder\n",
    "\n",
    "Return the placeholders in the following tuple `(Input, Targets, LearningRate)`"
   ]
  },
  {
   "cell_type": "code",
   "execution_count": 101,
   "metadata": {
    "collapsed": false,
    "deletable": true,
    "editable": true
   },
   "outputs": [
    {
     "name": "stdout",
     "output_type": "stream",
     "text": [
      "Tests Passed\n"
     ]
    }
   ],
   "source": [
    "def get_inputs():\n",
    "    \"\"\"\n",
    "    Create TF Placeholders for input, targets, and learning rate.\n",
    "    :return: Tuple (input, targets, learning rate)\n",
    "    \"\"\"\n",
    "    # TODO: Implement Function\n",
    "    inputs = tf.placeholder(tf.int32,[None,None],name=\"input\")\n",
    "    targets = tf.placeholder(tf.int32,[None,None],name=\"targets\")\n",
    "    learningrate = tf.placeholder(tf.float32,name=\"learningrate\")\n",
    "    return inputs, targets, learningrate\n",
    "\n",
    "\n",
    "\"\"\"\n",
    "DON'T MODIFY ANYTHING IN THIS CELL THAT IS BELOW THIS LINE\n",
    "\"\"\"\n",
    "tests.test_get_inputs(get_inputs)"
   ]
  },
  {
   "cell_type": "markdown",
   "metadata": {
    "deletable": true,
    "editable": true
   },
   "source": [
    "### Build RNN Cell and Initialize\n",
    "Stack one or more [`BasicLSTMCells`](https://www.tensorflow.org/api_docs/python/tf/contrib/rnn/BasicLSTMCell) in a [`MultiRNNCell`](https://www.tensorflow.org/api_docs/python/tf/contrib/rnn/MultiRNNCell).\n",
    "- The Rnn size should be set using `rnn_size`\n",
    "- Initalize Cell State using the MultiRNNCell's [`zero_state()`](https://www.tensorflow.org/api_docs/python/tf/contrib/rnn/MultiRNNCell#zero_state) function\n",
    "    - Apply the name \"initial_state\" to the initial state using [`tf.identity()`](https://www.tensorflow.org/api_docs/python/tf/identity)\n",
    "\n",
    "Return the cell and initial state in the following tuple `(Cell, InitialState)`"
   ]
  },
  {
   "cell_type": "code",
   "execution_count": 102,
   "metadata": {
    "collapsed": false,
    "deletable": true,
    "editable": true
   },
   "outputs": [
    {
     "name": "stdout",
     "output_type": "stream",
     "text": [
      "Tests Passed\n"
     ]
    }
   ],
   "source": [
    "def get_init_cell(batch_size, rnn_size):\n",
    "    \"\"\"\n",
    "    Create an RNN Cell and initialize it.\n",
    "    :param batch_size: Size of batches\n",
    "    :param rnn_size: Size of RNNs\n",
    "    :return: Tuple (cell, initialize state)\n",
    "    \"\"\"\n",
    "    # TODO: Implement Function\n",
    "\n",
    "    lstm = tf.contrib.rnn.BasicLSTMCell(rnn_size)\n",
    "\n",
    "    cell = tf.contrib.rnn.MultiRNNCell([lstm])\n",
    "\n",
    "    initial_state = tf.identity(cell.zero_state(batch_size,tf.float32),\"initial_state\")\n",
    "    \n",
    "    return cell, initial_state\n",
    "\n",
    "\n",
    "\"\"\"\n",
    "DON'T MODIFY ANYTHING IN THIS CELL THAT IS BELOW THIS LINE\n",
    "\"\"\"\n",
    "tests.test_get_init_cell(get_init_cell)"
   ]
  },
  {
   "cell_type": "markdown",
   "metadata": {
    "deletable": true,
    "editable": true
   },
   "source": [
    "### Word Embedding\n",
    "Apply embedding to `input_data` using TensorFlow.  Return the embedded sequence."
   ]
  },
  {
   "cell_type": "code",
   "execution_count": 103,
   "metadata": {
    "collapsed": false,
    "deletable": true,
    "editable": true
   },
   "outputs": [
    {
     "name": "stdout",
     "output_type": "stream",
     "text": [
      "Tests Passed\n"
     ]
    }
   ],
   "source": [
    "def get_embed(input_data, vocab_size, embed_dim):\n",
    "    \"\"\"\n",
    "    Create embedding for <input_data>.\n",
    "    :param input_data: TF placeholder for text input.\n",
    "    :param vocab_size: Number of words in vocabulary.\n",
    "    :param embed_dim: Number of embedding dimensions\n",
    "    :return: Embedded input.\n",
    "    \"\"\"\n",
    "    # TODO: Implement Function\n",
    "    embedding = tf.Variable(tf.random_uniform((vocab_size,embed_dim)))\n",
    "    embed = tf.nn.embedding_lookup(embedding,input_data)\n",
    "    return embed\n",
    "\n",
    "\n",
    "\"\"\"\n",
    "DON'T MODIFY ANYTHING IN THIS CELL THAT IS BELOW THIS LINE\n",
    "\"\"\"\n",
    "tests.test_get_embed(get_embed)"
   ]
  },
  {
   "cell_type": "markdown",
   "metadata": {
    "deletable": true,
    "editable": true
   },
   "source": [
    "### Build RNN\n",
    "You created a RNN Cell in the `get_init_cell()` function.  Time to use the cell to create a RNN.\n",
    "- Build the RNN using the [`tf.nn.dynamic_rnn()`](https://www.tensorflow.org/api_docs/python/tf/nn/dynamic_rnn)\n",
    " - Apply the name \"final_state\" to the final state using [`tf.identity()`](https://www.tensorflow.org/api_docs/python/tf/identity)\n",
    "\n",
    "Return the outputs and final_state state in the following tuple `(Outputs, FinalState)` "
   ]
  },
  {
   "cell_type": "code",
   "execution_count": 104,
   "metadata": {
    "collapsed": false,
    "deletable": true,
    "editable": true
   },
   "outputs": [
    {
     "name": "stdout",
     "output_type": "stream",
     "text": [
      "Tests Passed\n"
     ]
    }
   ],
   "source": [
    "def build_rnn(cell, inputs):\n",
    "    \"\"\"\n",
    "    Create a RNN using a RNN Cell\n",
    "    :param cell: RNN Cell\n",
    "    :param inputs: Input text data\n",
    "    :return: Tuple (Outputs, Final State)\n",
    "    \"\"\"\n",
    "    # TODO: Implement Function\n",
    "    outputs, final_state = tf.nn.dynamic_rnn(cell=cell,inputs=inputs,dtype=tf.float32)\n",
    "    return outputs, tf.identity(final_state,\"final_state\")\n",
    "\n",
    "\n",
    "\"\"\"\n",
    "DON'T MODIFY ANYTHING IN THIS CELL THAT IS BELOW THIS LINE\n",
    "\"\"\"\n",
    "tests.test_build_rnn(build_rnn)"
   ]
  },
  {
   "cell_type": "markdown",
   "metadata": {
    "deletable": true,
    "editable": true
   },
   "source": [
    "### Build the Neural Network\n",
    "Apply the functions you implemented above to:\n",
    "- Apply embedding to `input_data` using your `get_embed(input_data, vocab_size, embed_dim)` function.\n",
    "- Build RNN using `cell` and your `build_rnn(cell, inputs)` function.\n",
    "- Apply a fully connected layer with a linear activation and `vocab_size` as the number of outputs.\n",
    "\n",
    "Return the logits and final state in the following tuple (Logits, FinalState) "
   ]
  },
  {
   "cell_type": "code",
   "execution_count": 105,
   "metadata": {
    "collapsed": false,
    "deletable": true,
    "editable": true
   },
   "outputs": [
    {
     "name": "stdout",
     "output_type": "stream",
     "text": [
      "Tests Passed\n"
     ]
    }
   ],
   "source": [
    "def build_nn(cell, rnn_size, input_data, vocab_size, embed_dim):\n",
    "    \"\"\"\n",
    "    Build part of the neural network\n",
    "    :param cell: RNN cell\n",
    "    :param rnn_size: Size of rnns\n",
    "    :param input_data: Input data\n",
    "    :param vocab_size: Vocabulary size\n",
    "    :param embed_dim: Number of embedding dimensions\n",
    "    :return: Tuple (Logits, FinalState)\n",
    "    \"\"\"\n",
    "\n",
    "    # TODO: Implement Function\n",
    "    # not using rnn_size -- should the cell layer be reshaped before being used to create rnn layer? \n",
    "    # or should rnn_size be used to create the embed intput for build_rnn? \n",
    "    # embed = get_embed(input_data, rnn_size, embed_dim) --> works --> however, stated that function needs vocab_size\n",
    "    embed = get_embed(input_data, vocab_size, embed_dim)\n",
    "    outputs,final_state = build_rnn(cell, embed)\n",
    "    logits= tf.contrib.layers.fully_connected(outputs, vocab_size, activation_fn=tf.nn.relu)\n",
    "    return logits, final_state\n",
    "\n",
    "\n",
    "\"\"\"\n",
    "DON'T MODIFY ANYTHING IN THIS CELL THAT IS BELOW THIS LINE\n",
    "\"\"\"\n",
    "tests.test_build_nn(build_nn)"
   ]
  },
  {
   "cell_type": "markdown",
   "metadata": {
    "deletable": true,
    "editable": true
   },
   "source": [
    "### Batches\n",
    "Implement `get_batches` to create batches of input and targets using `int_text`.  The batches should be a Numpy array with the shape `(number of batches, 2, batch size, sequence length)`. Each batch contains two elements:\n",
    "- The first element is a single batch of **input** with the shape `[batch size, sequence length]`\n",
    "- The second element is a single batch of **targets** with the shape `[batch size, sequence length]`\n",
    "\n",
    "If you can't fill the last batch with enough data, drop the last batch.\n",
    "\n",
    "For exmple, `get_batches([1, 2, 3, 4, 5, 6, 7, 8, 9, 10, 11, 12, 13, 14, 15, 16, 17, 18, 19, 20], 3, 2)` would return a Numpy array of the following:\n",
    "```\n",
    "[\n",
    "  # First Batch\n",
    "  [\n",
    "    # Batch of Input\n",
    "    [[ 1  2], [ 7  8], [13 14]]\n",
    "    # Batch of targets\n",
    "    [[ 2  3], [ 8  9], [14 15]]\n",
    "  ]\n",
    "\n",
    "  # Second Batch\n",
    "  [\n",
    "    # Batch of Input\n",
    "    [[ 3  4], [ 9 10], [15 16]]\n",
    "    # Batch of targets\n",
    "    [[ 4  5], [10 11], [16 17]]\n",
    "  ]\n",
    "\n",
    "  # Third Batch\n",
    "  [\n",
    "    # Batch of Input\n",
    "    [[ 5  6], [11 12], [17 18]]\n",
    "    # Batch of targets\n",
    "    [[ 6  7], [12 13], [18  1]]\n",
    "  ]\n",
    "]\n",
    "```\n",
    "\n",
    "Notice that the last target value in the last batch is the first input value of the first batch. In this case, `1`. This is a common technique used when creating sequence batches, although it is rather unintuitive."
   ]
  },
  {
   "cell_type": "code",
   "execution_count": 106,
   "metadata": {
    "collapsed": false,
    "deletable": true,
    "editable": true
   },
   "outputs": [
    {
     "name": "stdout",
     "output_type": "stream",
     "text": [
      "Tests Passed\n"
     ]
    }
   ],
   "source": [
    "def get_batches(int_text, batch_size, seq_length):\n",
    "    \"\"\"\n",
    "    Return batches of input and target\n",
    "    :param int_text: Text with the words replaced by their ids\n",
    "    :param batch_size: The size of batch\n",
    "    :param seq_length: The length of sequence\n",
    "    :return: Batches as a Numpy array\n",
    "    \"\"\"\n",
    "    # TODO: Implement Function\n",
    "    n_batches = int(len(int_text)/(batch_size*seq_length))\n",
    "    \n",
    "    inputs = np.array(int_text[:n_batches*batch_size*seq_length])\n",
    "\n",
    "    targets = np.roll(inputs,-1)\n",
    "    targets[-1] = inputs[0]\n",
    "    \n",
    "    input_batches = np.split(inputs.reshape(batch_size,-1),n_batches,1)\n",
    "    target_batches = np.split(targets.reshape(batch_size,-1),n_batches,1)\n",
    "    \n",
    "    return np.array(list(zip(input_batches,target_batches)))\n",
    "\n",
    "\n",
    "\"\"\"\n",
    "DON'T MODIFY ANYTHING IN THIS CELL THAT IS BELOW THIS LINE\n",
    "\"\"\"\n",
    "tests.test_get_batches(get_batches)"
   ]
  },
  {
   "cell_type": "code",
   "execution_count": 115,
   "metadata": {
    "collapsed": true,
    "deletable": true,
    "editable": true
   },
   "outputs": [],
   "source": [
    "# Number of Epochs\n",
    "num_epochs = 400\n",
    "# Batch Size\n",
    "batch_size = 64\n",
    "# RNN Size\n",
    "rnn_size = 256\n",
    "# Embedding Dimension Size\n",
    "embed_dim = 300\n",
    "# Sequence Length\n",
    "seq_length = 30\n",
    "# Learning Rate\n",
    "learning_rate = 0.001\n",
    "# Show stats for every n number of batches\n",
    "show_every_n_batches = 50\n",
    "\n",
    "\"\"\"\n",
    "DON'T MODIFY ANYTHING IN THIS CELL THAT IS BELOW THIS LINE\n",
    "\"\"\"\n",
    "save_dir = './save'"
   ]
  },
  {
   "cell_type": "markdown",
   "metadata": {
    "deletable": true,
    "editable": true
   },
   "source": [
    "### Build the Graph\n",
    "Build the graph using the neural network you implemented."
   ]
  },
  {
   "cell_type": "code",
   "execution_count": 116,
   "metadata": {
    "collapsed": true,
    "deletable": true,
    "editable": true
   },
   "outputs": [],
   "source": [
    "\"\"\"\n",
    "DON'T MODIFY ANYTHING IN THIS CELL\n",
    "\"\"\"\n",
    "from tensorflow.contrib import seq2seq\n",
    "\n",
    "train_graph = tf.Graph()\n",
    "with train_graph.as_default():\n",
    "    vocab_size = len(int_to_vocab)\n",
    "    input_text, targets, lr = get_inputs()\n",
    "    input_data_shape = tf.shape(input_text)\n",
    "    cell, initial_state = get_init_cell(input_data_shape[0], rnn_size)\n",
    "    logits, final_state = build_nn(cell, rnn_size, input_text, vocab_size, embed_dim)\n",
    "\n",
    "    # Probabilities for generating words\n",
    "    probs = tf.nn.softmax(logits, name='probs')\n",
    "\n",
    "    # Loss function\n",
    "    cost = seq2seq.sequence_loss(\n",
    "        logits,\n",
    "        targets,\n",
    "        tf.ones([input_data_shape[0], input_data_shape[1]]))\n",
    "\n",
    "    # Optimizer\n",
    "    optimizer = tf.train.AdamOptimizer(lr)\n",
    "\n",
    "    # Gradient Clipping\n",
    "    gradients = optimizer.compute_gradients(cost)\n",
    "    capped_gradients = [(tf.clip_by_value(grad, -1., 1.), var) for grad, var in gradients if grad is not None]\n",
    "    train_op = optimizer.apply_gradients(capped_gradients)"
   ]
  },
  {
   "cell_type": "markdown",
   "metadata": {
    "deletable": true,
    "editable": true
   },
   "source": [
    "## Train\n",
    "Train the neural network on the preprocessed data.  If you have a hard time getting a good loss, check the [forms](https://discussions.udacity.com/) to see if anyone is having the same problem."
   ]
  },
  {
   "cell_type": "code",
   "execution_count": 117,
   "metadata": {
    "collapsed": false,
    "deletable": true,
    "editable": true
   },
   "outputs": [
    {
     "name": "stdout",
     "output_type": "stream",
     "text": [
      "Epoch   0 Batch    0/35   train_loss = 8.817\n",
      "Epoch   1 Batch   15/35   train_loss = 6.571\n",
      "Epoch   2 Batch   30/35   train_loss = 6.692\n",
      "Epoch   4 Batch   10/35   train_loss = 6.725\n",
      "Epoch   5 Batch   25/35   train_loss = 6.686\n",
      "Epoch   7 Batch    5/35   train_loss = 6.582\n",
      "Epoch   8 Batch   20/35   train_loss = 6.536\n",
      "Epoch  10 Batch    0/35   train_loss = 6.238\n",
      "Epoch  11 Batch   15/35   train_loss = 6.288\n",
      "Epoch  12 Batch   30/35   train_loss = 6.387\n",
      "Epoch  14 Batch   10/35   train_loss = 6.409\n",
      "Epoch  15 Batch   25/35   train_loss = 6.342\n",
      "Epoch  17 Batch    5/35   train_loss = 6.214\n",
      "Epoch  18 Batch   20/35   train_loss = 6.183\n",
      "Epoch  20 Batch    0/35   train_loss = 5.894\n",
      "Epoch  21 Batch   15/35   train_loss = 5.954\n",
      "Epoch  22 Batch   30/35   train_loss = 6.074\n",
      "Epoch  24 Batch   10/35   train_loss = 6.101\n",
      "Epoch  25 Batch   25/35   train_loss = 6.079\n",
      "Epoch  27 Batch    5/35   train_loss = 5.972\n",
      "Epoch  28 Batch   20/35   train_loss = 5.966\n",
      "Epoch  30 Batch    0/35   train_loss = 5.701\n",
      "Epoch  31 Batch   15/35   train_loss = 5.771\n",
      "Epoch  32 Batch   30/35   train_loss = 5.912\n",
      "Epoch  34 Batch   10/35   train_loss = 5.937\n",
      "Epoch  35 Batch   25/35   train_loss = 5.917\n",
      "Epoch  37 Batch    5/35   train_loss = 5.819\n",
      "Epoch  38 Batch   20/35   train_loss = 5.811\n",
      "Epoch  40 Batch    0/35   train_loss = 5.526\n",
      "Epoch  41 Batch   15/35   train_loss = 5.589\n",
      "Epoch  42 Batch   30/35   train_loss = 5.729\n",
      "Epoch  44 Batch   10/35   train_loss = 5.742\n",
      "Epoch  45 Batch   25/35   train_loss = 5.727\n",
      "Epoch  47 Batch    5/35   train_loss = 5.616\n",
      "Epoch  48 Batch   20/35   train_loss = 5.624\n",
      "Epoch  50 Batch    0/35   train_loss = 5.312\n",
      "Epoch  51 Batch   15/35   train_loss = 5.387\n",
      "Epoch  52 Batch   30/35   train_loss = 5.545\n",
      "Epoch  54 Batch   10/35   train_loss = 5.552\n",
      "Epoch  55 Batch   25/35   train_loss = 5.528\n",
      "Epoch  57 Batch    5/35   train_loss = 5.409\n",
      "Epoch  58 Batch   20/35   train_loss = 5.441\n",
      "Epoch  60 Batch    0/35   train_loss = 5.129\n",
      "Epoch  61 Batch   15/35   train_loss = 5.199\n",
      "Epoch  62 Batch   30/35   train_loss = 5.356\n",
      "Epoch  64 Batch   10/35   train_loss = 5.358\n",
      "Epoch  65 Batch   25/35   train_loss = 5.351\n",
      "Epoch  67 Batch    5/35   train_loss = 5.231\n",
      "Epoch  68 Batch   20/35   train_loss = 5.264\n",
      "Epoch  70 Batch    0/35   train_loss = 4.981\n",
      "Epoch  71 Batch   15/35   train_loss = 5.046\n",
      "Epoch  72 Batch   30/35   train_loss = 5.218\n",
      "Epoch  74 Batch   10/35   train_loss = 5.166\n",
      "Epoch  75 Batch   25/35   train_loss = 5.165\n",
      "Epoch  77 Batch    5/35   train_loss = 5.066\n",
      "Epoch  78 Batch   20/35   train_loss = 5.109\n",
      "Epoch  80 Batch    0/35   train_loss = 4.785\n",
      "Epoch  81 Batch   15/35   train_loss = 4.894\n",
      "Epoch  82 Batch   30/35   train_loss = 5.056\n",
      "Epoch  84 Batch   10/35   train_loss = 5.048\n",
      "Epoch  85 Batch   25/35   train_loss = 5.051\n",
      "Epoch  87 Batch    5/35   train_loss = 4.936\n",
      "Epoch  88 Batch   20/35   train_loss = 4.997\n",
      "Epoch  90 Batch    0/35   train_loss = 4.635\n",
      "Epoch  91 Batch   15/35   train_loss = 4.747\n",
      "Epoch  92 Batch   30/35   train_loss = 4.956\n",
      "Epoch  94 Batch   10/35   train_loss = 4.914\n",
      "Epoch  95 Batch   25/35   train_loss = 4.885\n",
      "Epoch  97 Batch    5/35   train_loss = 4.786\n",
      "Epoch  98 Batch   20/35   train_loss = 4.840\n",
      "Epoch 100 Batch    0/35   train_loss = 4.494\n",
      "Epoch 101 Batch   15/35   train_loss = 4.598\n",
      "Epoch 102 Batch   30/35   train_loss = 4.819\n",
      "Epoch 104 Batch   10/35   train_loss = 4.789\n",
      "Epoch 105 Batch   25/35   train_loss = 4.790\n",
      "Epoch 107 Batch    5/35   train_loss = 4.693\n",
      "Epoch 108 Batch   20/35   train_loss = 4.739\n",
      "Epoch 110 Batch    0/35   train_loss = 4.413\n",
      "Epoch 111 Batch   15/35   train_loss = 4.552\n",
      "Epoch 112 Batch   30/35   train_loss = 4.738\n",
      "Epoch 114 Batch   10/35   train_loss = 4.676\n",
      "Epoch 115 Batch   25/35   train_loss = 4.691\n",
      "Epoch 117 Batch    5/35   train_loss = 4.602\n",
      "Epoch 118 Batch   20/35   train_loss = 4.629\n",
      "Epoch 120 Batch    0/35   train_loss = 4.296\n",
      "Epoch 121 Batch   15/35   train_loss = 4.453\n",
      "Epoch 122 Batch   30/35   train_loss = 4.635\n",
      "Epoch 124 Batch   10/35   train_loss = 4.612\n",
      "Epoch 125 Batch   25/35   train_loss = 4.587\n",
      "Epoch 127 Batch    5/35   train_loss = 4.510\n",
      "Epoch 128 Batch   20/35   train_loss = 4.538\n",
      "Epoch 130 Batch    0/35   train_loss = 4.177\n",
      "Epoch 131 Batch   15/35   train_loss = 4.321\n",
      "Epoch 132 Batch   30/35   train_loss = 4.530\n",
      "Epoch 134 Batch   10/35   train_loss = 4.464\n",
      "Epoch 135 Batch   25/35   train_loss = 4.485\n",
      "Epoch 137 Batch    5/35   train_loss = 4.424\n",
      "Epoch 138 Batch   20/35   train_loss = 4.432\n",
      "Epoch 140 Batch    0/35   train_loss = 4.090\n",
      "Epoch 141 Batch   15/35   train_loss = 4.222\n",
      "Epoch 142 Batch   30/35   train_loss = 4.411\n",
      "Epoch 144 Batch   10/35   train_loss = 4.352\n",
      "Epoch 145 Batch   25/35   train_loss = 4.379\n",
      "Epoch 147 Batch    5/35   train_loss = 4.337\n",
      "Epoch 148 Batch   20/35   train_loss = 4.353\n",
      "Epoch 150 Batch    0/35   train_loss = 3.992\n",
      "Epoch 151 Batch   15/35   train_loss = 4.168\n",
      "Epoch 152 Batch   30/35   train_loss = 4.352\n",
      "Epoch 154 Batch   10/35   train_loss = 4.298\n",
      "Epoch 155 Batch   25/35   train_loss = 4.311\n",
      "Epoch 157 Batch    5/35   train_loss = 4.276\n",
      "Epoch 158 Batch   20/35   train_loss = 4.277\n",
      "Epoch 160 Batch    0/35   train_loss = 3.918\n",
      "Epoch 161 Batch   15/35   train_loss = 4.128\n",
      "Epoch 162 Batch   30/35   train_loss = 4.291\n",
      "Epoch 164 Batch   10/35   train_loss = 4.242\n",
      "Epoch 165 Batch   25/35   train_loss = 4.252\n",
      "Epoch 167 Batch    5/35   train_loss = 4.277\n",
      "Epoch 168 Batch   20/35   train_loss = 4.228\n",
      "Epoch 170 Batch    0/35   train_loss = 3.835\n",
      "Epoch 171 Batch   15/35   train_loss = 4.007\n",
      "Epoch 172 Batch   30/35   train_loss = 4.210\n",
      "Epoch 174 Batch   10/35   train_loss = 4.139\n",
      "Epoch 175 Batch   25/35   train_loss = 4.168\n",
      "Epoch 177 Batch    5/35   train_loss = 4.136\n",
      "Epoch 178 Batch   20/35   train_loss = 4.128\n",
      "Epoch 180 Batch    0/35   train_loss = 3.735\n",
      "Epoch 181 Batch   15/35   train_loss = 3.921\n",
      "Epoch 182 Batch   30/35   train_loss = 4.113\n",
      "Epoch 184 Batch   10/35   train_loss = 4.093\n",
      "Epoch 185 Batch   25/35   train_loss = 4.121\n",
      "Epoch 187 Batch    5/35   train_loss = 4.092\n",
      "Epoch 188 Batch   20/35   train_loss = 4.066\n",
      "Epoch 190 Batch    0/35   train_loss = 3.679\n",
      "Epoch 191 Batch   15/35   train_loss = 3.871\n",
      "Epoch 192 Batch   30/35   train_loss = 4.088\n",
      "Epoch 194 Batch   10/35   train_loss = 4.047\n",
      "Epoch 195 Batch   25/35   train_loss = 4.069\n",
      "Epoch 197 Batch    5/35   train_loss = 4.069\n",
      "Epoch 198 Batch   20/35   train_loss = 4.067\n",
      "Epoch 200 Batch    0/35   train_loss = 3.639\n",
      "Epoch 201 Batch   15/35   train_loss = 3.837\n",
      "Epoch 202 Batch   30/35   train_loss = 4.029\n",
      "Epoch 204 Batch   10/35   train_loss = 4.000\n",
      "Epoch 205 Batch   25/35   train_loss = 4.022\n",
      "Epoch 207 Batch    5/35   train_loss = 4.010\n",
      "Epoch 208 Batch   20/35   train_loss = 4.031\n",
      "Epoch 210 Batch    0/35   train_loss = 3.590\n",
      "Epoch 211 Batch   15/35   train_loss = 3.822\n",
      "Epoch 212 Batch   30/35   train_loss = 4.000\n",
      "Epoch 214 Batch   10/35   train_loss = 3.963\n",
      "Epoch 215 Batch   25/35   train_loss = 4.007\n",
      "Epoch 217 Batch    5/35   train_loss = 3.976\n",
      "Epoch 218 Batch   20/35   train_loss = 3.993\n",
      "Epoch 220 Batch    0/35   train_loss = 3.554\n",
      "Epoch 221 Batch   15/35   train_loss = 3.798\n",
      "Epoch 222 Batch   30/35   train_loss = 3.979\n",
      "Epoch 224 Batch   10/35   train_loss = 3.940\n",
      "Epoch 225 Batch   25/35   train_loss = 3.971\n",
      "Epoch 227 Batch    5/35   train_loss = 3.935\n",
      "Epoch 228 Batch   20/35   train_loss = 3.957\n",
      "Epoch 230 Batch    0/35   train_loss = 3.490\n",
      "Epoch 231 Batch   15/35   train_loss = 3.722\n",
      "Epoch 232 Batch   30/35   train_loss = 3.940\n",
      "Epoch 234 Batch   10/35   train_loss = 3.887\n",
      "Epoch 235 Batch   25/35   train_loss = 3.917\n",
      "Epoch 237 Batch    5/35   train_loss = 3.889\n",
      "Epoch 238 Batch   20/35   train_loss = 3.906\n",
      "Epoch 240 Batch    0/35   train_loss = 3.437\n",
      "Epoch 241 Batch   15/35   train_loss = 3.672\n",
      "Epoch 242 Batch   30/35   train_loss = 3.889\n",
      "Epoch 244 Batch   10/35   train_loss = 3.858\n",
      "Epoch 245 Batch   25/35   train_loss = 3.896\n",
      "Epoch 247 Batch    5/35   train_loss = 3.859\n",
      "Epoch 248 Batch   20/35   train_loss = 3.865\n",
      "Epoch 250 Batch    0/35   train_loss = 3.393\n",
      "Epoch 251 Batch   15/35   train_loss = 3.630\n",
      "Epoch 252 Batch   30/35   train_loss = 3.843\n",
      "Epoch 254 Batch   10/35   train_loss = 3.827\n",
      "Epoch 255 Batch   25/35   train_loss = 3.859\n",
      "Epoch 257 Batch    5/35   train_loss = 3.834\n",
      "Epoch 258 Batch   20/35   train_loss = 3.850\n",
      "Epoch 260 Batch    0/35   train_loss = 3.388\n",
      "Epoch 261 Batch   15/35   train_loss = 3.622\n",
      "Epoch 262 Batch   30/35   train_loss = 3.856\n",
      "Epoch 264 Batch   10/35   train_loss = 3.833\n",
      "Epoch 265 Batch   25/35   train_loss = 3.850\n",
      "Epoch 267 Batch    5/35   train_loss = 3.832\n",
      "Epoch 268 Batch   20/35   train_loss = 3.839\n",
      "Epoch 270 Batch    0/35   train_loss = 3.362\n",
      "Epoch 271 Batch   15/35   train_loss = 3.607\n",
      "Epoch 272 Batch   30/35   train_loss = 3.834\n",
      "Epoch 274 Batch   10/35   train_loss = 3.813\n",
      "Epoch 275 Batch   25/35   train_loss = 3.831\n",
      "Epoch 277 Batch    5/35   train_loss = 3.830\n",
      "Epoch 278 Batch   20/35   train_loss = 3.849\n",
      "Epoch 280 Batch    0/35   train_loss = 3.354\n",
      "Epoch 281 Batch   15/35   train_loss = 3.601\n",
      "Epoch 282 Batch   30/35   train_loss = 3.824\n",
      "Epoch 284 Batch   10/35   train_loss = 3.807\n",
      "Epoch 285 Batch   25/35   train_loss = 3.839\n",
      "Epoch 287 Batch    5/35   train_loss = 3.817\n",
      "Epoch 288 Batch   20/35   train_loss = 3.834\n",
      "Epoch 290 Batch    0/35   train_loss = 3.347\n",
      "Epoch 291 Batch   15/35   train_loss = 3.588\n",
      "Epoch 292 Batch   30/35   train_loss = 3.807\n",
      "Epoch 294 Batch   10/35   train_loss = 3.784\n",
      "Epoch 295 Batch   25/35   train_loss = 3.813\n",
      "Epoch 297 Batch    5/35   train_loss = 3.789\n",
      "Epoch 298 Batch   20/35   train_loss = 3.802\n",
      "Epoch 300 Batch    0/35   train_loss = 3.302\n",
      "Epoch 301 Batch   15/35   train_loss = 3.567\n",
      "Epoch 302 Batch   30/35   train_loss = 3.797\n",
      "Epoch 304 Batch   10/35   train_loss = 3.778\n",
      "Epoch 305 Batch   25/35   train_loss = 3.804\n",
      "Epoch 307 Batch    5/35   train_loss = 3.788\n",
      "Epoch 308 Batch   20/35   train_loss = 3.803\n",
      "Epoch 310 Batch    0/35   train_loss = 3.303\n",
      "Epoch 311 Batch   15/35   train_loss = 3.565\n",
      "Epoch 312 Batch   30/35   train_loss = 3.798\n",
      "Epoch 314 Batch   10/35   train_loss = 3.780\n",
      "Epoch 315 Batch   25/35   train_loss = 3.810\n",
      "Epoch 317 Batch    5/35   train_loss = 3.783\n",
      "Epoch 318 Batch   20/35   train_loss = 3.798\n",
      "Epoch 320 Batch    0/35   train_loss = 3.304\n",
      "Epoch 321 Batch   15/35   train_loss = 3.555\n",
      "Epoch 322 Batch   30/35   train_loss = 3.798\n",
      "Epoch 324 Batch   10/35   train_loss = 3.782\n",
      "Epoch 325 Batch   25/35   train_loss = 3.807\n",
      "Epoch 327 Batch    5/35   train_loss = 3.778\n",
      "Epoch 328 Batch   20/35   train_loss = 3.802\n",
      "Epoch 330 Batch    0/35   train_loss = 3.301\n",
      "Epoch 331 Batch   15/35   train_loss = 3.562\n",
      "Epoch 332 Batch   30/35   train_loss = 3.799\n",
      "Epoch 334 Batch   10/35   train_loss = 3.772\n",
      "Epoch 335 Batch   25/35   train_loss = 3.800\n",
      "Epoch 337 Batch    5/35   train_loss = 3.794\n",
      "Epoch 338 Batch   20/35   train_loss = 3.800\n",
      "Epoch 340 Batch    0/35   train_loss = 3.292\n",
      "Epoch 341 Batch   15/35   train_loss = 3.551\n",
      "Epoch 342 Batch   30/35   train_loss = 3.790\n",
      "Epoch 344 Batch   10/35   train_loss = 3.770\n",
      "Epoch 345 Batch   25/35   train_loss = 3.797\n",
      "Epoch 347 Batch    5/35   train_loss = 3.780\n",
      "Epoch 348 Batch   20/35   train_loss = 3.791\n",
      "Epoch 350 Batch    0/35   train_loss = 3.290\n",
      "Epoch 351 Batch   15/35   train_loss = 3.553\n",
      "Epoch 352 Batch   30/35   train_loss = 3.791\n",
      "Epoch 354 Batch   10/35   train_loss = 3.761\n",
      "Epoch 355 Batch   25/35   train_loss = 3.795\n",
      "Epoch 357 Batch    5/35   train_loss = 3.769\n",
      "Epoch 358 Batch   20/35   train_loss = 3.785\n",
      "Epoch 360 Batch    0/35   train_loss = 3.279\n",
      "Epoch 361 Batch   15/35   train_loss = 3.545\n",
      "Epoch 362 Batch   30/35   train_loss = 3.780\n",
      "Epoch 364 Batch   10/35   train_loss = 3.761\n",
      "Epoch 365 Batch   25/35   train_loss = 3.788\n",
      "Epoch 367 Batch    5/35   train_loss = 3.769\n",
      "Epoch 368 Batch   20/35   train_loss = 3.785\n",
      "Epoch 370 Batch    0/35   train_loss = 3.282\n",
      "Epoch 371 Batch   15/35   train_loss = 3.543\n",
      "Epoch 372 Batch   30/35   train_loss = 3.776\n",
      "Epoch 374 Batch   10/35   train_loss = 3.757\n",
      "Epoch 375 Batch   25/35   train_loss = 3.788\n",
      "Epoch 377 Batch    5/35   train_loss = 3.766\n",
      "Epoch 378 Batch   20/35   train_loss = 3.785\n",
      "Epoch 380 Batch    0/35   train_loss = 3.280\n",
      "Epoch 381 Batch   15/35   train_loss = 3.555\n",
      "Epoch 382 Batch   30/35   train_loss = 3.789\n",
      "Epoch 384 Batch   10/35   train_loss = 3.767\n",
      "Epoch 385 Batch   25/35   train_loss = 3.800\n",
      "Epoch 387 Batch    5/35   train_loss = 3.779\n",
      "Epoch 388 Batch   20/35   train_loss = 3.790\n",
      "Epoch 390 Batch    0/35   train_loss = 3.276\n",
      "Epoch 391 Batch   15/35   train_loss = 3.537\n",
      "Epoch 392 Batch   30/35   train_loss = 3.771\n",
      "Epoch 394 Batch   10/35   train_loss = 3.756\n",
      "Epoch 395 Batch   25/35   train_loss = 3.786\n",
      "Epoch 397 Batch    5/35   train_loss = 3.764\n",
      "Epoch 398 Batch   20/35   train_loss = 3.778\n",
      "Model Trained and Saved\n"
     ]
    }
   ],
   "source": [
    "\"\"\"\n",
    "DON'T MODIFY ANYTHING IN THIS CELL\n",
    "\"\"\"\n",
    "batches = get_batches(int_text, batch_size, seq_length)\n",
    "\n",
    "with tf.Session(graph=train_graph) as sess:\n",
    "    sess.run(tf.global_variables_initializer())\n",
    "\n",
    "    for epoch_i in range(num_epochs):\n",
    "        state = sess.run(initial_state, {input_text: batches[0][0]})\n",
    "\n",
    "        for batch_i, (x, y) in enumerate(batches):\n",
    "            feed = {\n",
    "                input_text: x,\n",
    "                targets: y,\n",
    "                initial_state: state,\n",
    "                lr: learning_rate}\n",
    "            train_loss, state, _ = sess.run([cost, final_state, train_op], feed)\n",
    "\n",
    "            # Show every <show_every_n_batches> batches\n",
    "            if (epoch_i * len(batches) + batch_i) % show_every_n_batches == 0:\n",
    "                print('Epoch {:>3} Batch {:>4}/{}   train_loss = {:.3f}'.format(\n",
    "                    epoch_i,\n",
    "                    batch_i,\n",
    "                    len(batches),\n",
    "                    train_loss))\n",
    "\n",
    "    # Save Model\n",
    "    saver = tf.train.Saver()\n",
    "    saver.save(sess, save_dir)\n",
    "    print('Model Trained and Saved')"
   ]
  },
  {
   "cell_type": "markdown",
   "metadata": {
    "deletable": true,
    "editable": true
   },
   "source": [
    "## Save Parameters\n",
    "Save `seq_length` and `save_dir` for generating a new TV script."
   ]
  },
  {
   "cell_type": "code",
   "execution_count": 118,
   "metadata": {
    "collapsed": true,
    "deletable": true,
    "editable": true
   },
   "outputs": [],
   "source": [
    "\"\"\"\n",
    "DON'T MODIFY ANYTHING IN THIS CELL\n",
    "\"\"\"\n",
    "# Save parameters for checkpoint\n",
    "helper.save_params((seq_length, save_dir))"
   ]
  },
  {
   "cell_type": "markdown",
   "metadata": {
    "deletable": true,
    "editable": true
   },
   "source": [
    "# Checkpoint"
   ]
  },
  {
   "cell_type": "code",
   "execution_count": 119,
   "metadata": {
    "collapsed": true,
    "deletable": true,
    "editable": true
   },
   "outputs": [],
   "source": [
    "\"\"\"\n",
    "DON'T MODIFY ANYTHING IN THIS CELL\n",
    "\"\"\"\n",
    "import tensorflow as tf\n",
    "import numpy as np\n",
    "import helper\n",
    "import problem_unittests as tests\n",
    "\n",
    "_, vocab_to_int, int_to_vocab, token_dict = helper.load_preprocess()\n",
    "seq_length, load_dir = helper.load_params()"
   ]
  },
  {
   "cell_type": "markdown",
   "metadata": {
    "deletable": true,
    "editable": true
   },
   "source": [
    "## Implement Generate Functions\n",
    "### Get Tensors\n",
    "Get tensors from `loaded_graph` using the function [`get_tensor_by_name()`](https://www.tensorflow.org/api_docs/python/tf/Graph#get_tensor_by_name).  Get the tensors using the following names:\n",
    "- \"input:0\"\n",
    "- \"initial_state:0\"\n",
    "- \"final_state:0\"\n",
    "- \"probs:0\"\n",
    "\n",
    "Return the tensors in the following tuple `(InputTensor, InitialStateTensor, FinalStateTensor, ProbsTensor)` "
   ]
  },
  {
   "cell_type": "code",
   "execution_count": 120,
   "metadata": {
    "collapsed": false,
    "deletable": true,
    "editable": true
   },
   "outputs": [
    {
     "name": "stdout",
     "output_type": "stream",
     "text": [
      "Tests Passed\n"
     ]
    }
   ],
   "source": [
    "def get_tensors(loaded_graph):\n",
    "    \"\"\"\n",
    "    Get input, initial state, final state, and probabilities tensor from <loaded_graph>\n",
    "    :param loaded_graph: TensorFlow graph loaded from file\n",
    "    :return: Tuple (InputTensor, InitialStateTensor, FinalStateTensor, ProbsTensor)\n",
    "    \"\"\"\n",
    "    # TODO: Implement Function\n",
    "    input_tensor = loaded_graph.get_tensor_by_name(\"input:0\")\n",
    "    initial_state_tensor = loaded_graph.get_tensor_by_name(\"initial_state:0\")\n",
    "    final_state_tensor = loaded_graph.get_tensor_by_name(\"final_state:0\")\n",
    "    probs_tensor = loaded_graph.get_tensor_by_name(\"probs:0\")\n",
    "    return input_tensor, initial_state_tensor, final_state_tensor, probs_tensor\n",
    "\n",
    "\n",
    "\"\"\"\n",
    "DON'T MODIFY ANYTHING IN THIS CELL THAT IS BELOW THIS LINE\n",
    "\"\"\"\n",
    "tests.test_get_tensors(get_tensors)"
   ]
  },
  {
   "cell_type": "markdown",
   "metadata": {
    "deletable": true,
    "editable": true
   },
   "source": [
    "### Choose Word\n",
    "Implement the `pick_word()` function to select the next word using `probabilities`."
   ]
  },
  {
   "cell_type": "code",
   "execution_count": 121,
   "metadata": {
    "collapsed": false,
    "deletable": true,
    "editable": true
   },
   "outputs": [
    {
     "name": "stdout",
     "output_type": "stream",
     "text": [
      "Tests Passed\n"
     ]
    }
   ],
   "source": [
    "def pick_word(probabilities, int_to_vocab):\n",
    "    \"\"\"\n",
    "    Pick the next word in the generated text\n",
    "    :param probabilities: Probabilites of the next word\n",
    "    :param int_to_vocab: Dictionary of word ids as the keys and words as the values\n",
    "    :return: String of the predicted word\n",
    "    \"\"\"\n",
    "    # TODO: Implement Function\n",
    "    index_of_max_prob = np.argmax(probabilities)\n",
    "    next_word = int_to_vocab[index_of_max_prob]\n",
    "    return next_word\n",
    "\n",
    "\n",
    "\"\"\"\n",
    "DON'T MODIFY ANYTHING IN THIS CELL THAT IS BELOW THIS LINE\n",
    "\"\"\"\n",
    "tests.test_pick_word(pick_word)"
   ]
  },
  {
   "cell_type": "markdown",
   "metadata": {
    "deletable": true,
    "editable": true
   },
   "source": [
    "## Generate TV Script\n",
    "This will generate the TV script for you.  Set `gen_length` to the length of TV script you want to generate."
   ]
  },
  {
   "cell_type": "code",
   "execution_count": 122,
   "metadata": {
    "collapsed": false,
    "deletable": true,
    "editable": true
   },
   "outputs": [
    {
     "name": "stdout",
     "output_type": "stream",
     "text": [
      "moe_szyslak: so, uh, hello?!\n",
      "homer_simpson: which of my new of happened... homer, i got is a way to make a place look at me. mom was gonna be a place look at me. you know, uh, that's what i know, i know.\n",
      "lenny_leonard: yeah, that's it...\n",
      "homer_simpson: now, moe...\n",
      "\n",
      "\n",
      "lenny_leonard: huh. my name is guy.\n",
      "barney_gumble: if you were. what can i do it now? i don't think of it, is. but i'll have another of you, but i would something like to be a lot of people like you do more really do with the.\n",
      "barney_gumble: well, we've all got you used to me.\n",
      "chief_wiggum: well what would. like, if you didn't give me everything... a lot of the time i was a new way to drink all the new bar...\n",
      "lisa_simpson: my name is. huh? well, that's it... now, let me get\n"
     ]
    }
   ],
   "source": [
    "gen_length = 200\n",
    "# homer_simpson, moe_szyslak, or Barney_Gumble\n",
    "prime_word = 'moe_szyslak'\n",
    "\n",
    "\"\"\"\n",
    "DON'T MODIFY ANYTHING IN THIS CELL THAT IS BELOW THIS LINE\n",
    "\"\"\"\n",
    "loaded_graph = tf.Graph()\n",
    "with tf.Session(graph=loaded_graph) as sess:\n",
    "    # Load saved model\n",
    "    loader = tf.train.import_meta_graph(load_dir + '.meta')\n",
    "    loader.restore(sess, load_dir)\n",
    "\n",
    "    # Get Tensors from loaded model\n",
    "    input_text, initial_state, final_state, probs = get_tensors(loaded_graph)\n",
    "\n",
    "    # Sentences generation setup\n",
    "    gen_sentences = [prime_word + ':']\n",
    "    prev_state = sess.run(initial_state, {input_text: np.array([[1]])})\n",
    "\n",
    "    # Generate sentences\n",
    "    for n in range(gen_length):\n",
    "        # Dynamic Input\n",
    "        dyn_input = [[vocab_to_int[word] for word in gen_sentences[-seq_length:]]]\n",
    "        dyn_seq_length = len(dyn_input[0])\n",
    "\n",
    "        # Get Prediction\n",
    "        probabilities, prev_state = sess.run(\n",
    "            [probs, final_state],\n",
    "            {input_text: dyn_input, initial_state: prev_state})\n",
    "        \n",
    "        pred_word = pick_word(probabilities[dyn_seq_length-1], int_to_vocab)\n",
    "\n",
    "        gen_sentences.append(pred_word)\n",
    "    \n",
    "    # Remove tokens\n",
    "    tv_script = ' '.join(gen_sentences)\n",
    "    for key, token in token_dict.items():\n",
    "        ending = ' ' if key in ['\\n', '(', '\"'] else ''\n",
    "        tv_script = tv_script.replace(' ' + token.lower(), key)\n",
    "    tv_script = tv_script.replace('\\n ', '\\n')\n",
    "    tv_script = tv_script.replace('( ', '(')\n",
    "        \n",
    "    print(tv_script)"
   ]
  },
  {
   "cell_type": "markdown",
   "metadata": {
    "deletable": true,
    "editable": true
   },
   "source": [
    "# The TV Script is Nonsensical\n",
    "It's ok if the TV script doesn't make any sense.  We trained on less than a megabyte of text.  In order to get good results, you'll have to use a smaller vocabulary or get more data.  Luckly there's more data!  As we mentioned in the begging of this project, this is a subset of [another dataset](https://www.kaggle.com/wcukierski/the-simpsons-by-the-data).  We didn't have you train on all the data, because that would take too long.  However, you are free to train your neural network on all the data.  After you complete the project, of course.\n",
    "# Submitting This Project\n",
    "When submitting this project, make sure to run all the cells before saving the notebook. Save the notebook file as \"dlnd_tv_script_generation.ipynb\" and save it as a HTML file under \"File\" -> \"Download as\". Include the \"helper.py\" and \"problem_unittests.py\" files in your submission."
   ]
  }
 ],
 "metadata": {
  "kernelspec": {
   "display_name": "Python 3",
   "language": "python",
   "name": "python3"
  },
  "language_info": {
   "codemirror_mode": {
    "name": "ipython",
    "version": 3
   },
   "file_extension": ".py",
   "mimetype": "text/x-python",
   "name": "python",
   "nbconvert_exporter": "python",
   "pygments_lexer": "ipython3",
   "version": "3.5.3"
  },
  "widgets": {
   "state": {},
   "version": "1.1.2"
  }
 },
 "nbformat": 4,
 "nbformat_minor": 1
}
